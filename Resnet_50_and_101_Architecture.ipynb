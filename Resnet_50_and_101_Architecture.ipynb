{
  "metadata": {
    "kernelspec": {
      "display_name": "Python 3",
      "name": "python3"
    },
    "language_info": {
      "name": "python",
      "version": "3.10.13",
      "mimetype": "text/x-python",
      "codemirror_mode": {
        "name": "ipython",
        "version": 3
      },
      "pygments_lexer": "ipython3",
      "nbconvert_exporter": "python",
      "file_extension": ".py"
    },
    "kaggle": {
      "accelerator": "gpu",
      "dataSources": [
        {
          "sourceId": 2609027,
          "sourceType": "datasetVersion",
          "datasetId": 5857
        }
      ],
      "dockerImageVersionId": 30673,
      "isInternetEnabled": true,
      "language": "python",
      "sourceType": "notebook",
      "isGpuEnabled": true
    },
    "colab": {
      "name": "Resnet 50 and 101 Architecture ",
      "provenance": [],
      "gpuType": "T4",
      "include_colab_link": true
    },
    "accelerator": "GPU"
  },
  "nbformat_minor": 0,
  "nbformat": 4,
  "cells": [
    {
      "cell_type": "markdown",
      "metadata": {
        "id": "view-in-github",
        "colab_type": "text"
      },
      "source": [
        "<a href=\"https://colab.research.google.com/github/som-pat/Resnet-BasevsTL/blob/main/Resnet_50_and_101_Architecture.ipynb\" target=\"_parent\"><img src=\"https://colab.research.google.com/assets/colab-badge.svg\" alt=\"Open In Colab\"/></a>"
      ]
    },
    {
      "source": [
        "\n",
        "# IMPORTANT: RUN THIS CELL IN ORDER TO IMPORT YOUR KAGGLE DATA SOURCES\n",
        "# TO THE CORRECT LOCATION (/kaggle/input) IN YOUR NOTEBOOK,\n",
        "# THEN FEEL FREE TO DELETE THIS CELL.\n",
        "# NOTE: THIS NOTEBOOK ENVIRONMENT DIFFERS FROM KAGGLE'S PYTHON\n",
        "# ENVIRONMENT SO THERE MAY BE MISSING LIBRARIES USED BY YOUR\n",
        "# NOTEBOOK.\n",
        "\n",
        "import os\n",
        "import sys\n",
        "from tempfile import NamedTemporaryFile\n",
        "from urllib.request import urlopen\n",
        "from urllib.parse import unquote, urlparse\n",
        "from urllib.error import HTTPError\n",
        "from zipfile import ZipFile\n",
        "import tarfile\n",
        "import shutil\n",
        "\n",
        "CHUNK_SIZE = 40960\n",
        "DATA_SOURCE_MAPPING = 'fruits:https%3A%2F%2Fstorage.googleapis.com%2Fkaggle-data-sets%2F5857%2F2609027%2Fbundle%2Farchive.zip%3FX-Goog-Algorithm%3DGOOG4-RSA-SHA256%26X-Goog-Credential%3Dgcp-kaggle-com%2540kaggle-161607.iam.gserviceaccount.com%252F20240505%252Fauto%252Fstorage%252Fgoog4_request%26X-Goog-Date%3D20240505T122811Z%26X-Goog-Expires%3D259200%26X-Goog-SignedHeaders%3Dhost%26X-Goog-Signature%3D058cdd5c7df9ed986edd86f8eba92aaf15b6371c17ecf02dfb2e41385e3111af7dd49e686234b035e44cdc40e4ef42863038d495712da16e889f5609f3d850b90cb2a07040ab078d7c440a7ef137a51b3e3e742a64a5e838e513bbf8df5ed0e0b1fec12e253369787ca09bb0b7d692b74093c099b3303d9079e9e07485ef00c6b3c7bb33f0580eb28800dadfee1b60b1b435ffc298588181b8d59cb054a48398cf4cbc5d80b4ad4ab09cdc4d8ecc4b0cd74e73c628054e1c9a4e3aba7dc6aaf0637d6f549f0915ccf773015acbab27376da78d6e4af3d89e79fa383b812d5f805ac0344a21cdae750984dc185a1e77a2f93ee885443d9d125c06ae7fd76f4fec'\n",
        "\n",
        "KAGGLE_INPUT_PATH='/kaggle/input'\n",
        "KAGGLE_WORKING_PATH='/kaggle/working'\n",
        "KAGGLE_SYMLINK='kaggle'\n",
        "\n",
        "!umount /kaggle/input/ 2> /dev/null\n",
        "shutil.rmtree('/kaggle/input', ignore_errors=True)\n",
        "os.makedirs(KAGGLE_INPUT_PATH, 0o777, exist_ok=True)\n",
        "os.makedirs(KAGGLE_WORKING_PATH, 0o777, exist_ok=True)\n",
        "\n",
        "try:\n",
        "  os.symlink(KAGGLE_INPUT_PATH, os.path.join(\"..\", 'input'), target_is_directory=True)\n",
        "except FileExistsError:\n",
        "  pass\n",
        "try:\n",
        "  os.symlink(KAGGLE_WORKING_PATH, os.path.join(\"..\", 'working'), target_is_directory=True)\n",
        "except FileExistsError:\n",
        "  pass\n",
        "\n",
        "for data_source_mapping in DATA_SOURCE_MAPPING.split(','):\n",
        "    directory, download_url_encoded = data_source_mapping.split(':')\n",
        "    download_url = unquote(download_url_encoded)\n",
        "    filename = urlparse(download_url).path\n",
        "    destination_path = os.path.join(KAGGLE_INPUT_PATH, directory)\n",
        "    try:\n",
        "        with urlopen(download_url) as fileres, NamedTemporaryFile() as tfile:\n",
        "            total_length = fileres.headers['content-length']\n",
        "            print(f'Downloading {directory}, {total_length} bytes compressed')\n",
        "            dl = 0\n",
        "            data = fileres.read(CHUNK_SIZE)\n",
        "            while len(data) > 0:\n",
        "                dl += len(data)\n",
        "                tfile.write(data)\n",
        "                done = int(50 * dl / int(total_length))\n",
        "                sys.stdout.write(f\"\\r[{'=' * done}{' ' * (50-done)}] {dl} bytes downloaded\")\n",
        "                sys.stdout.flush()\n",
        "                data = fileres.read(CHUNK_SIZE)\n",
        "            if filename.endswith('.zip'):\n",
        "              with ZipFile(tfile) as zfile:\n",
        "                zfile.extractall(destination_path)\n",
        "            else:\n",
        "              with tarfile.open(tfile.name) as tarfile:\n",
        "                tarfile.extractall(destination_path)\n",
        "            print(f'\\nDownloaded and uncompressed: {directory}')\n",
        "    except HTTPError as e:\n",
        "        print(f'Failed to load (likely expired) {download_url} to path {destination_path}')\n",
        "        continue\n",
        "    except OSError as e:\n",
        "        print(f'Failed to load {download_url} to path {destination_path}')\n",
        "        continue\n",
        "\n",
        "print('Data source import complete.')\n"
      ],
      "metadata": {
        "id": "IHiSIt_kueyi",
        "outputId": "93c48b1e-bf5e-4f53-d681-2c3fbc47065f",
        "colab": {
          "base_uri": "https://localhost:8080/"
        }
      },
      "cell_type": "code",
      "outputs": [
        {
          "output_type": "stream",
          "name": "stdout",
          "text": [
            "Downloading fruits, 1379678841 bytes compressed\n",
            "[==================================================] 1379678841 bytes downloaded\n",
            "Downloaded and uncompressed: fruits\n",
            "Data source import complete.\n"
          ]
        }
      ],
      "execution_count": 1
    },
    {
      "cell_type": "markdown",
      "source": [
        " ## **Importing Libraries**"
      ],
      "metadata": {
        "_uuid": "8f2839f25d086af736a60e9eeb907d3b93b6e0e5",
        "_cell_guid": "b1076dfc-b9ad-4769-8c92-a6c4dae69d19",
        "execution": {
          "iopub.status.busy": "2024-04-14T10:35:07.118503Z",
          "iopub.execute_input": "2024-04-14T10:35:07.119062Z",
          "iopub.status.idle": "2024-04-14T10:35:07.463102Z",
          "shell.execute_reply.started": "2024-04-14T10:35:07.119026Z",
          "shell.execute_reply": "2024-04-14T10:35:07.462384Z"
        },
        "id": "c3sjWhxVueyl"
      }
    },
    {
      "cell_type": "code",
      "source": [
        "import os\n",
        "import torch\n",
        "import numpy\n",
        "import pandas as pd\n",
        "import torch.nn as nn\n",
        "from torch import optim\n",
        "from torch.utils.data import DataLoader,random_split\n",
        "from torchvision import datasets, transforms\n",
        "import torchvision\n",
        "import matplotlib.pyplot as plt\n",
        "import numpy as np\n",
        "import itertools\n",
        "from zipfile import ZipFile\n",
        "from glob import glob\n",
        "from PIL import Image\n",
        "import os,random,time,copy\n",
        "# from resnet import ResidualBlock, ResNet, ResNet50\n",
        "from tqdm import tqdm\n",
        "\n",
        "import torch\n",
        "import torch.nn as  nn\n",
        "import torch.nn.functional as F"
      ],
      "metadata": {
        "execution": {
          "iopub.status.busy": "2024-05-03T06:34:31.119549Z",
          "iopub.execute_input": "2024-05-03T06:34:31.120778Z",
          "iopub.status.idle": "2024-05-03T06:34:39.058064Z",
          "shell.execute_reply.started": "2024-05-03T06:34:31.120735Z",
          "shell.execute_reply": "2024-05-03T06:34:39.056672Z"
        },
        "trusted": true,
        "id": "Ame4_T2Uueym"
      },
      "execution_count": 2,
      "outputs": []
    },
    {
      "cell_type": "code",
      "source": [
        "dtype = torch.float\n",
        "device = torch.device(\"cuda\") if torch.cuda.is_available() else torch.device(\"cpu\")\n",
        "print(device)"
      ],
      "metadata": {
        "execution": {
          "iopub.status.busy": "2024-05-03T06:34:39.578393Z",
          "iopub.execute_input": "2024-05-03T06:34:39.578855Z",
          "iopub.status.idle": "2024-05-03T06:34:39.585151Z",
          "shell.execute_reply.started": "2024-05-03T06:34:39.578821Z",
          "shell.execute_reply": "2024-05-03T06:34:39.584029Z"
        },
        "trusted": true,
        "id": "Z33VvyNRueym",
        "outputId": "9f1e5c5c-1b45-4373-d208-6083ce959f55",
        "colab": {
          "base_uri": "https://localhost:8080/"
        }
      },
      "execution_count": 3,
      "outputs": [
        {
          "output_type": "stream",
          "name": "stdout",
          "text": [
            "cuda\n"
          ]
        }
      ]
    },
    {
      "cell_type": "code",
      "source": [
        "Image_size = [100,100] # Image Size to be used during Augmentation and Normalization\n",
        "batch_size = 64 # for Dataloader"
      ],
      "metadata": {
        "execution": {
          "iopub.status.busy": "2024-05-03T06:34:41.729943Z",
          "iopub.execute_input": "2024-05-03T06:34:41.730378Z",
          "iopub.status.idle": "2024-05-03T06:34:41.735861Z",
          "shell.execute_reply.started": "2024-05-03T06:34:41.730346Z",
          "shell.execute_reply": "2024-05-03T06:34:41.734714Z"
        },
        "trusted": true,
        "id": "x9yIUy-kueyn"
      },
      "execution_count": 4,
      "outputs": []
    },
    {
      "cell_type": "markdown",
      "source": [
        "## Loading Dataset"
      ],
      "metadata": {
        "id": "iuyVTcwYueyn"
      }
    },
    {
      "cell_type": "code",
      "source": [
        "train_path = '/kaggle/input/fruits/fruits-360_dataset/fruits-360/Training'\n",
        "test_path = '/kaggle/input/fruits/fruits-360_dataset/fruits-360/Test'\n",
        "classes = len(os.listdir(train_path))"
      ],
      "metadata": {
        "execution": {
          "iopub.status.busy": "2024-05-03T06:34:51.673615Z",
          "iopub.execute_input": "2024-05-03T06:34:51.674054Z",
          "iopub.status.idle": "2024-05-03T06:34:51.70226Z",
          "shell.execute_reply.started": "2024-05-03T06:34:51.674023Z",
          "shell.execute_reply": "2024-05-03T06:34:51.701399Z"
        },
        "trusted": true,
        "id": "aG0S1_X9ueyn"
      },
      "execution_count": 5,
      "outputs": []
    },
    {
      "cell_type": "markdown",
      "source": [
        "* **Dataset Augmentation and Normalization**"
      ],
      "metadata": {
        "id": "uypfOu8Yueyn"
      }
    },
    {
      "cell_type": "code",
      "source": [
        "# Define a series of transformations for data augmentation and normalization during training\n",
        "transform_train = transforms.Compose([\n",
        "    transforms.Resize(Image_size),  # Resize the input image to the specified size\n",
        "    transforms.RandomHorizontalFlip(),  # Randomly flip the image horizontally\n",
        "    transforms.RandomRotation(10),  # Randomly rotate the image by up to 10 degrees\n",
        "    transforms.RandomAffine(0, shear=10, scale=(0.8, 1.2)),  # Apply random affine transformations\n",
        "    transforms.ToTensor(),  # Convert the image to a PyTorch tensor\n",
        "    transforms.Normalize((0.485, 0.456, 0.406), (0.229, 0.224, 0.225))  # Normalize the tensor with specified mean and standard deviation\n",
        "])\n",
        "\n",
        "# Define a series of transformations for data normalization during testing/validation\n",
        "transform_test = transforms.Compose([\n",
        "    transforms.Resize(Image_size),  # Resize the input image to the specified size\n",
        "    transforms.ToTensor(),  # Convert the image to a PyTorch tensor\n",
        "    transforms.Normalize((0.485, 0.456, 0.406), (0.229, 0.224, 0.225))  # Normalize the tensor with specified mean and standard deviation\n",
        "])\n"
      ],
      "metadata": {
        "execution": {
          "iopub.status.busy": "2024-05-03T06:53:00.060844Z",
          "iopub.execute_input": "2024-05-03T06:53:00.062271Z",
          "iopub.status.idle": "2024-05-03T06:53:00.07239Z",
          "shell.execute_reply.started": "2024-05-03T06:53:00.062219Z",
          "shell.execute_reply": "2024-05-03T06:53:00.071197Z"
        },
        "trusted": true,
        "id": "F6y6LXriueyo"
      },
      "execution_count": 6,
      "outputs": []
    },
    {
      "cell_type": "markdown",
      "source": [
        "Reason for difference in Transformation Stacks\n",
        "> The difference between training and testing transformations lies in the inclusion of data augmentation techniques (e.g., random flipping, rotation, affine transformations) in the training set to enhance model generalization, whereas the test set undergoes only normalization to maintain consistency with real-world scenarios."
      ],
      "metadata": {
        "id": "cs_lEijFueyo"
      }
    },
    {
      "cell_type": "code",
      "source": [
        "# Create datasets for training and testing/validation\n",
        "train = datasets.ImageFolder(train_path, transform_train)  # Training dataset with data augmentation\n",
        "test = datasets.ImageFolder(test_path, transform_test)  # Testing/validation dataset with normalization\n",
        "\n",
        "# Split the training dataset into training and validation subsets\n",
        "val_len = int(len(train) - 0.25 * len(train))  # Define the length of the validation subset\n",
        "train, valid = random_split(train, [val_len, len(train) - val_len])  # Randomly split the training data into training and validation subsets\n"
      ],
      "metadata": {
        "execution": {
          "iopub.status.busy": "2024-05-03T06:53:02.919493Z",
          "iopub.execute_input": "2024-05-03T06:53:02.920508Z",
          "iopub.status.idle": "2024-05-03T06:53:29.921366Z",
          "shell.execute_reply.started": "2024-05-03T06:53:02.920467Z",
          "shell.execute_reply": "2024-05-03T06:53:29.920087Z"
        },
        "trusted": true,
        "id": "-7tKWurxueyo"
      },
      "execution_count": 7,
      "outputs": []
    },
    {
      "cell_type": "code",
      "source": [
        "fig, axs = plt.subplots(1,4, figsize=(6, 6))  # Create a horizontal line of subplots\n",
        "j = random.randint(120,1029)\n",
        "for i in range(4):\n",
        "    image, label = train[j+i]\n",
        "    axs[i].imshow(image.permute(1, 2, 0))   # Display the grayscale image\n",
        "    axs[i].set_title(f\"Label: {label}\")\n",
        "    axs[i].axis('off')  # Turn off axis labels and ticks\n",
        "\n",
        "plt.tight_layout()\n",
        "plt.show()"
      ],
      "metadata": {
        "execution": {
          "iopub.status.busy": "2024-05-03T06:53:33.156515Z",
          "iopub.execute_input": "2024-05-03T06:53:33.156972Z",
          "iopub.status.idle": "2024-05-03T06:53:33.952662Z",
          "shell.execute_reply.started": "2024-05-03T06:53:33.156943Z",
          "shell.execute_reply": "2024-05-03T06:53:33.95176Z"
        },
        "trusted": true,
        "id": "09l5PoPFueyo",
        "outputId": "18438813-697f-4fe4-fbec-7ae91b2d7b71",
        "colab": {
          "base_uri": "https://localhost:8080/",
          "height": 259
        }
      },
      "execution_count": 8,
      "outputs": [
        {
          "output_type": "stream",
          "name": "stderr",
          "text": [
            "WARNING:matplotlib.image:Clipping input data to the valid range for imshow with RGB data ([0..1] for floats or [0..255] for integers).\n",
            "WARNING:matplotlib.image:Clipping input data to the valid range for imshow with RGB data ([0..1] for floats or [0..255] for integers).\n",
            "WARNING:matplotlib.image:Clipping input data to the valid range for imshow with RGB data ([0..1] for floats or [0..255] for integers).\n",
            "WARNING:matplotlib.image:Clipping input data to the valid range for imshow with RGB data ([0..1] for floats or [0..255] for integers).\n"
          ]
        },
        {
          "output_type": "display_data",
          "data": {
            "text/plain": [
              "<Figure size 600x600 with 4 Axes>"
            ],
            "image/png": "[encoded data removed]"
          },
          "metadata": {}
        }
      ]
    },
    {
      "cell_type": "code",
      "source": [
        "train_loader = DataLoader(train, batch_size=batch_size, shuffle=True)\n",
        "valid_loader = DataLoader(valid, batch_size=batch_size, shuffle=True)\n",
        "test_loader = DataLoader(test, batch_size=batch_size, shuffle=True)"
      ],
      "metadata": {
        "execution": {
          "iopub.status.busy": "2024-05-03T06:53:39.459201Z",
          "iopub.execute_input": "2024-05-03T06:53:39.459618Z",
          "iopub.status.idle": "2024-05-03T06:53:39.465329Z",
          "shell.execute_reply.started": "2024-05-03T06:53:39.459587Z",
          "shell.execute_reply": "2024-05-03T06:53:39.464376Z"
        },
        "trusted": true,
        "id": "kI1B4mkjueyp"
      },
      "execution_count": 9,
      "outputs": []
    },
    {
      "cell_type": "code",
      "source": [
        "image,labels = next(iter(train_loader))\n",
        "print(image.shape)\n",
        "print(labels.shape)\n",
        "print('Classes:',classes)"
      ],
      "metadata": {
        "execution": {
          "iopub.status.busy": "2024-05-03T06:55:36.247538Z",
          "iopub.execute_input": "2024-05-03T06:55:36.24801Z",
          "iopub.status.idle": "2024-05-03T06:55:36.732074Z",
          "shell.execute_reply.started": "2024-05-03T06:55:36.247978Z",
          "shell.execute_reply": "2024-05-03T06:55:36.730895Z"
        },
        "trusted": true,
        "id": "qlP8E2lRueyp",
        "outputId": "2bb9ab10-a5f8-485c-ce88-55cbce5ba0ea",
        "colab": {
          "base_uri": "https://localhost:8080/"
        }
      },
      "execution_count": 10,
      "outputs": [
        {
          "output_type": "stream",
          "name": "stdout",
          "text": [
            "torch.Size([64, 3, 100, 100])\n",
            "torch.Size([64])\n",
            "Classes: 131\n"
          ]
        }
      ]
    },
    {
      "cell_type": "markdown",
      "source": [
        "## ResNet Architecture"
      ],
      "metadata": {
        "id": "iWlh_NKSueyp"
      }
    },
    {
      "cell_type": "code",
      "source": [
        "# Define a Residual Block module\n",
        "class ResidualBlock(nn.Module):\n",
        "    def __init__(self, in_channels, out_channels, stride=1, downsample=None):\n",
        "        super(ResidualBlock, self).__init__()\n",
        "        # First convolutional layer with batch normalization and ReLU activation\n",
        "        self.conv1 = nn.Sequential(\n",
        "            nn.Conv2d(in_channels, out_channels, kernel_size=3, stride=stride, padding=1),\n",
        "            nn.BatchNorm2d(out_channels),\n",
        "            nn.ReLU()\n",
        "        )\n",
        "        # Second convolutional layer with batch normalization (no activation)\n",
        "        self.conv2 = nn.Sequential(\n",
        "            nn.Conv2d(out_channels, out_channels, kernel_size=3, stride=1, padding=1),\n",
        "            nn.BatchNorm2d(out_channels),\n",
        "        )\n",
        "        # Optional downsampling layer\n",
        "        self.downsample = downsample\n",
        "        # ReLU activation\n",
        "        self.relu = nn.ReLU()\n",
        "        # Store the output channels for later use\n",
        "        self.out_channels = out_channels\n",
        "\n",
        "    def forward(self, x):\n",
        "        # Store the input as residual\n",
        "        residual = x\n",
        "        # Pass through the first convolutional layer\n",
        "        out = self.conv1(x)\n",
        "        # Pass through the second convolutional layer\n",
        "        out = self.conv2(out)\n",
        "        # Apply downsampling if specified\n",
        "        if self.downsample:\n",
        "            residual = self.downsample(x)\n",
        "        # Add the residual to the output\n",
        "        out += residual\n",
        "        # Apply ReLU activation\n",
        "        out = self.relu(out)\n",
        "        return out\n",
        "\n",
        "# Define the ResNet architecture\n",
        "class ResNet(nn.Module):\n",
        "    def __init__(self, blocks, layers, num_classes):\n",
        "        super(ResNet, self).__init__()\n",
        "        self.inplanes = 64\n",
        "        # Initial convolutional layer\n",
        "        self.conv1 = nn.Sequential(\n",
        "            nn.Conv2d(3, 64, kernel_size=5, stride=2, padding=3),\n",
        "            nn.BatchNorm2d(64),\n",
        "            nn.ReLU()\n",
        "        )\n",
        "        # Max pooling layer\n",
        "        self.maxpool = nn.MaxPool2d(kernel_size=3, stride=2, padding=1)\n",
        "        # Residual layers\n",
        "        self.layer0 = self.make_layer(blocks, 64, layers[0], stride=1)\n",
        "        self.layer1 = self.make_layer(blocks, 128, layers[1], stride=2)\n",
        "        self.layer2 = self.make_layer(blocks, 256, layers[2], stride=2)\n",
        "        self.layer3 = self.make_layer(blocks, 512, layers[3], stride=2)\n",
        "        # Adaptive average pooling\n",
        "        self.ap1 = nn.AdaptiveAvgPool2d((1, 1))\n",
        "        # Fully connected layers\n",
        "        self.fc = nn.Sequential(\n",
        "            nn.Linear(512, 256),\n",
        "            nn.ReLU(),\n",
        "            nn.Linear(256, num_classes)\n",
        "        )\n",
        "\n",
        "    # Helper function to create a layer with multiple residual blocks\n",
        "    def make_layer(self, block, planes, blocks, stride=1):\n",
        "        downsample = None\n",
        "        if stride != 1 or self.inplanes != planes:\n",
        "            downsample = nn.Sequential(\n",
        "                nn.Conv2d(self.inplanes, planes, kernel_size=1, stride=stride),\n",
        "                nn.BatchNorm2d(planes)\n",
        "            )\n",
        "        layers = []\n",
        "        layers.append(block(self.inplanes, planes, stride, downsample))\n",
        "        self.inplanes = planes\n",
        "        for i in range(1, blocks):\n",
        "            layers.append(block(self.inplanes, planes))\n",
        "        return nn.Sequential(*layers)\n",
        "\n",
        "    # Forward pass through the network\n",
        "    def forward(self, x):\n",
        "        x = self.conv1(x)\n",
        "        x = self.maxpool(x)\n",
        "        x = self.layer0(x)\n",
        "        x = self.layer1(x)\n",
        "        x = self.layer2(x)\n",
        "        x = self.layer3(x)\n",
        "        x = self.ap1(x)\n",
        "        x = x.reshape(x.shape[0], -1)\n",
        "        x = self.fc(x)\n",
        "        return x\n",
        "\n",
        "# Function to create ResNet-50 model\n",
        "def ResNet50(num_classes):\n",
        "    return ResNet(ResidualBlock, [3, 4, 6, 3], num_classes)\n",
        "\n",
        "# Function to create ResNet-101 model\n",
        "def ResNet101(num_classes):\n",
        "    return ResNet(ResidualBlock, [3, 4, 23, 3], num_classes)\n"
      ],
      "metadata": {
        "execution": {
          "iopub.status.busy": "2024-05-03T06:58:50.120145Z",
          "iopub.execute_input": "2024-05-03T06:58:50.121405Z",
          "iopub.status.idle": "2024-05-03T06:58:50.159115Z",
          "shell.execute_reply.started": "2024-05-03T06:58:50.121342Z",
          "shell.execute_reply": "2024-05-03T06:58:50.157667Z"
        },
        "trusted": true,
        "id": "aDdpDs6Dueyp"
      },
      "execution_count": 11,
      "outputs": []
    },
    {
      "cell_type": "code",
      "source": [
        "pre_train50 = ResNet50(classes).to(device)\n",
        "pre_train101 = ResNet101(classes).to(device)"
      ],
      "metadata": {
        "execution": {
          "iopub.status.busy": "2024-05-03T06:58:53.899409Z",
          "iopub.execute_input": "2024-05-03T06:58:53.89988Z",
          "iopub.status.idle": "2024-05-03T06:58:54.7556Z",
          "shell.execute_reply.started": "2024-05-03T06:58:53.899845Z",
          "shell.execute_reply": "2024-05-03T06:58:54.754258Z"
        },
        "trusted": true,
        "id": "XMdL6j-8ueyp"
      },
      "execution_count": 12,
      "outputs": []
    },
    {
      "cell_type": "code",
      "source": [
        "pre_train50"
      ],
      "metadata": {
        "execution": {
          "iopub.status.busy": "2024-05-03T07:00:33.850761Z",
          "iopub.execute_input": "2024-05-03T07:00:33.851699Z",
          "iopub.status.idle": "2024-05-03T07:00:33.864105Z",
          "shell.execute_reply.started": "2024-05-03T07:00:33.851655Z",
          "shell.execute_reply": "2024-05-03T07:00:33.863137Z"
        },
        "trusted": true,
        "id": "-zVti_Deueyp",
        "outputId": "10978726-3187-4423-d0a8-3cae89311d3b",
        "colab": {
          "base_uri": "https://localhost:8080/"
        }
      },
      "execution_count": 13,
      "outputs": [
        {
          "output_type": "execute_result",
          "data": {
            "text/plain": [
              "ResNet(\n",
              "  (conv1): Sequential(\n",
              "    (0): Conv2d(3, 64, kernel_size=(5, 5), stride=(2, 2), padding=(3, 3))\n",
              "    (1): BatchNorm2d(64, eps=1e-05, momentum=0.1, affine=True, track_running_stats=True)\n",
              "    (2): ReLU()\n",
              "  )\n",
              "  (maxpool): MaxPool2d(kernel_size=3, stride=2, padding=1, dilation=1, ceil_mode=False)\n",
              "  (layer0): Sequential(\n",
              "    (0): ResidualBlock(\n",
              "      (conv1): Sequential(\n",
              "        (0): Conv2d(64, 64, kernel_size=(3, 3), stride=(1, 1), padding=(1, 1))\n",
              "        (1): BatchNorm2d(64, eps=1e-05, momentum=0.1, affine=True, track_running_stats=True)\n",
              "        (2): ReLU()\n",
              "      )\n",
              "      (conv2): Sequential(\n",
              "        (0): Conv2d(64, 64, kernel_size=(3, 3), stride=(1, 1), padding=(1, 1))\n",
              "        (1): BatchNorm2d(64, eps=1e-05, momentum=0.1, affine=True, track_running_stats=True)\n",
              "      )\n",
              "      (relu): ReLU()\n",
              "    )\n",
              "    (1): ResidualBlock(\n",
              "      (conv1): Sequential(\n",
              "        (0): Conv2d(64, 64, kernel_size=(3, 3), stride=(1, 1), padding=(1, 1))\n",
              "        (1): BatchNorm2d(64, eps=1e-05, momentum=0.1, affine=True, track_running_stats=True)\n",
              "        (2): ReLU()\n",
              "      )\n",
              "      (conv2): Sequential(\n",
              "        (0): Conv2d(64, 64, kernel_size=(3, 3), stride=(1, 1), padding=(1, 1))\n",
              "        (1): BatchNorm2d(64, eps=1e-05, momentum=0.1, affine=True, track_running_stats=True)\n",
              "      )\n",
              "      (relu): ReLU()\n",
              "    )\n",
              "    (2): ResidualBlock(\n",
              "      (conv1): Sequential(\n",
              "        (0): Conv2d(64, 64, kernel_size=(3, 3), stride=(1, 1), padding=(1, 1))\n",
              "        (1): BatchNorm2d(64, eps=1e-05, momentum=0.1, affine=True, track_running_stats=True)\n",
              "        (2): ReLU()\n",
              "      )\n",
              "      (conv2): Sequential(\n",
              "        (0): Conv2d(64, 64, kernel_size=(3, 3), stride=(1, 1), padding=(1, 1))\n",
              "        (1): BatchNorm2d(64, eps=1e-05, momentum=0.1, affine=True, track_running_stats=True)\n",
              "      )\n",
              "      (relu): ReLU()\n",
              "    )\n",
              "  )\n",
              "  (layer1): Sequential(\n",
              "    (0): ResidualBlock(\n",
              "      (conv1): Sequential(\n",
              "        (0): Conv2d(64, 128, kernel_size=(3, 3), stride=(2, 2), padding=(1, 1))\n",
              "        (1): BatchNorm2d(128, eps=1e-05, momentum=0.1, affine=True, track_running_stats=True)\n",
              "        (2): ReLU()\n",
              "      )\n",
              "      (conv2): Sequential(\n",
              "        (0): Conv2d(128, 128, kernel_size=(3, 3), stride=(1, 1), padding=(1, 1))\n",
              "        (1): BatchNorm2d(128, eps=1e-05, momentum=0.1, affine=True, track_running_stats=True)\n",
              "      )\n",
              "      (downsample): Sequential(\n",
              "        (0): Conv2d(64, 128, kernel_size=(1, 1), stride=(2, 2))\n",
              "        (1): BatchNorm2d(128, eps=1e-05, momentum=0.1, affine=True, track_running_stats=True)\n",
              "      )\n",
              "      (relu): ReLU()\n",
              "    )\n",
              "    (1): ResidualBlock(\n",
              "      (conv1): Sequential(\n",
              "        (0): Conv2d(128, 128, kernel_size=(3, 3), stride=(1, 1), padding=(1, 1))\n",
              "        (1): BatchNorm2d(128, eps=1e-05, momentum=0.1, affine=True, track_running_stats=True)\n",
              "        (2): ReLU()\n",
              "      )\n",
              "      (conv2): Sequential(\n",
              "        (0): Conv2d(128, 128, kernel_size=(3, 3), stride=(1, 1), padding=(1, 1))\n",
              "        (1): BatchNorm2d(128, eps=1e-05, momentum=0.1, affine=True, track_running_stats=True)\n",
              "      )\n",
              "      (relu): ReLU()\n",
              "    )\n",
              "    (2): ResidualBlock(\n",
              "      (conv1): Sequential(\n",
              "        (0): Conv2d(128, 128, kernel_size=(3, 3), stride=(1, 1), padding=(1, 1))\n",
              "        (1): BatchNorm2d(128, eps=1e-05, momentum=0.1, affine=True, track_running_stats=True)\n",
              "        (2): ReLU()\n",
              "      )\n",
              "      (conv2): Sequential(\n",
              "        (0): Conv2d(128, 128, kernel_size=(3, 3), stride=(1, 1), padding=(1, 1))\n",
              "        (1): BatchNorm2d(128, eps=1e-05, momentum=0.1, affine=True, track_running_stats=True)\n",
              "      )\n",
              "      (relu): ReLU()\n",
              "    )\n",
              "    (3): ResidualBlock(\n",
              "      (conv1): Sequential(\n",
              "        (0): Conv2d(128, 128, kernel_size=(3, 3), stride=(1, 1), padding=(1, 1))\n",
              "        (1): BatchNorm2d(128, eps=1e-05, momentum=0.1, affine=True, track_running_stats=True)\n",
              "        (2): ReLU()\n",
              "      )\n",
              "      (conv2): Sequential(\n",
              "        (0): Conv2d(128, 128, kernel_size=(3, 3), stride=(1, 1), padding=(1, 1))\n",
              "        (1): BatchNorm2d(128, eps=1e-05, momentum=0.1, affine=True, track_running_stats=True)\n",
              "      )\n",
              "      (relu): ReLU()\n",
              "    )\n",
              "  )\n",
              "  (layer2): Sequential(\n",
              "    (0): ResidualBlock(\n",
              "      (conv1): Sequential(\n",
              "        (0): Conv2d(128, 256, kernel_size=(3, 3), stride=(2, 2), padding=(1, 1))\n",
              "        (1): BatchNorm2d(256, eps=1e-05, momentum=0.1, affine=True, track_running_stats=True)\n",
              "        (2): ReLU()\n",
              "      )\n",
              "      (conv2): Sequential(\n",
              "        (0): Conv2d(256, 256, kernel_size=(3, 3), stride=(1, 1), padding=(1, 1))\n",
              "        (1): BatchNorm2d(256, eps=1e-05, momentum=0.1, affine=True, track_running_stats=True)\n",
              "      )\n",
              "      (downsample): Sequential(\n",
              "        (0): Conv2d(128, 256, kernel_size=(1, 1), stride=(2, 2))\n",
              "        (1): BatchNorm2d(256, eps=1e-05, momentum=0.1, affine=True, track_running_stats=True)\n",
              "      )\n",
              "      (relu): ReLU()\n",
              "    )\n",
              "    (1): ResidualBlock(\n",
              "      (conv1): Sequential(\n",
              "        (0): Conv2d(256, 256, kernel_size=(3, 3), stride=(1, 1), padding=(1, 1))\n",
              "        (1): BatchNorm2d(256, eps=1e-05, momentum=0.1, affine=True, track_running_stats=True)\n",
              "        (2): ReLU()\n",
              "      )\n",
              "      (conv2): Sequential(\n",
              "        (0): Conv2d(256, 256, kernel_size=(3, 3), stride=(1, 1), padding=(1, 1))\n",
              "        (1): BatchNorm2d(256, eps=1e-05, momentum=0.1, affine=True, track_running_stats=True)\n",
              "      )\n",
              "      (relu): ReLU()\n",
              "    )\n",
              "    (2): ResidualBlock(\n",
              "      (conv1): Sequential(\n",
              "        (0): Conv2d(256, 256, kernel_size=(3, 3), stride=(1, 1), padding=(1, 1))\n",
              "        (1): BatchNorm2d(256, eps=1e-05, momentum=0.1, affine=True, track_running_stats=True)\n",
              "        (2): ReLU()\n",
              "      )\n",
              "      (conv2): Sequential(\n",
              "        (0): Conv2d(256, 256, kernel_size=(3, 3), stride=(1, 1), padding=(1, 1))\n",
              "        (1): BatchNorm2d(256, eps=1e-05, momentum=0.1, affine=True, track_running_stats=True)\n",
              "      )\n",
              "      (relu): ReLU()\n",
              "    )\n",
              "    (3): ResidualBlock(\n",
              "      (conv1): Sequential(\n",
              "        (0): Conv2d(256, 256, kernel_size=(3, 3), stride=(1, 1), padding=(1, 1))\n",
              "        (1): BatchNorm2d(256, eps=1e-05, momentum=0.1, affine=True, track_running_stats=True)\n",
              "        (2): ReLU()\n",
              "      )\n",
              "      (conv2): Sequential(\n",
              "        (0): Conv2d(256, 256, kernel_size=(3, 3), stride=(1, 1), padding=(1, 1))\n",
              "        (1): BatchNorm2d(256, eps=1e-05, momentum=0.1, affine=True, track_running_stats=True)\n",
              "      )\n",
              "      (relu): ReLU()\n",
              "    )\n",
              "    (4): ResidualBlock(\n",
              "      (conv1): Sequential(\n",
              "        (0): Conv2d(256, 256, kernel_size=(3, 3), stride=(1, 1), padding=(1, 1))\n",
              "        (1): BatchNorm2d(256, eps=1e-05, momentum=0.1, affine=True, track_running_stats=True)\n",
              "        (2): ReLU()\n",
              "      )\n",
              "      (conv2): Sequential(\n",
              "        (0): Conv2d(256, 256, kernel_size=(3, 3), stride=(1, 1), padding=(1, 1))\n",
              "        (1): BatchNorm2d(256, eps=1e-05, momentum=0.1, affine=True, track_running_stats=True)\n",
              "      )\n",
              "      (relu): ReLU()\n",
              "    )\n",
              "    (5): ResidualBlock(\n",
              "      (conv1): Sequential(\n",
              "        (0): Conv2d(256, 256, kernel_size=(3, 3), stride=(1, 1), padding=(1, 1))\n",
              "        (1): BatchNorm2d(256, eps=1e-05, momentum=0.1, affine=True, track_running_stats=True)\n",
              "        (2): ReLU()\n",
              "      )\n",
              "      (conv2): Sequential(\n",
              "        (0): Conv2d(256, 256, kernel_size=(3, 3), stride=(1, 1), padding=(1, 1))\n",
              "        (1): BatchNorm2d(256, eps=1e-05, momentum=0.1, affine=True, track_running_stats=True)\n",
              "      )\n",
              "      (relu): ReLU()\n",
              "    )\n",
              "  )\n",
              "  (layer3): Sequential(\n",
              "    (0): ResidualBlock(\n",
              "      (conv1): Sequential(\n",
              "        (0): Conv2d(256, 512, kernel_size=(3, 3), stride=(2, 2), padding=(1, 1))\n",
              "        (1): BatchNorm2d(512, eps=1e-05, momentum=0.1, affine=True, track_running_stats=True)\n",
              "        (2): ReLU()\n",
              "      )\n",
              "      (conv2): Sequential(\n",
              "        (0): Conv2d(512, 512, kernel_size=(3, 3), stride=(1, 1), padding=(1, 1))\n",
              "        (1): BatchNorm2d(512, eps=1e-05, momentum=0.1, affine=True, track_running_stats=True)\n",
              "      )\n",
              "      (downsample): Sequential(\n",
              "        (0): Conv2d(256, 512, kernel_size=(1, 1), stride=(2, 2))\n",
              "        (1): BatchNorm2d(512, eps=1e-05, momentum=0.1, affine=True, track_running_stats=True)\n",
              "      )\n",
              "      (relu): ReLU()\n",
              "    )\n",
              "    (1): ResidualBlock(\n",
              "      (conv1): Sequential(\n",
              "        (0): Conv2d(512, 512, kernel_size=(3, 3), stride=(1, 1), padding=(1, 1))\n",
              "        (1): BatchNorm2d(512, eps=1e-05, momentum=0.1, affine=True, track_running_stats=True)\n",
              "        (2): ReLU()\n",
              "      )\n",
              "      (conv2): Sequential(\n",
              "        (0): Conv2d(512, 512, kernel_size=(3, 3), stride=(1, 1), padding=(1, 1))\n",
              "        (1): BatchNorm2d(512, eps=1e-05, momentum=0.1, affine=True, track_running_stats=True)\n",
              "      )\n",
              "      (relu): ReLU()\n",
              "    )\n",
              "    (2): ResidualBlock(\n",
              "      (conv1): Sequential(\n",
              "        (0): Conv2d(512, 512, kernel_size=(3, 3), stride=(1, 1), padding=(1, 1))\n",
              "        (1): BatchNorm2d(512, eps=1e-05, momentum=0.1, affine=True, track_running_stats=True)\n",
              "        (2): ReLU()\n",
              "      )\n",
              "      (conv2): Sequential(\n",
              "        (0): Conv2d(512, 512, kernel_size=(3, 3), stride=(1, 1), padding=(1, 1))\n",
              "        (1): BatchNorm2d(512, eps=1e-05, momentum=0.1, affine=True, track_running_stats=True)\n",
              "      )\n",
              "      (relu): ReLU()\n",
              "    )\n",
              "  )\n",
              "  (ap1): AdaptiveAvgPool2d(output_size=(1, 1))\n",
              "  (fc): Sequential(\n",
              "    (0): Linear(in_features=512, out_features=256, bias=True)\n",
              "    (1): ReLU()\n",
              "    (2): Linear(in_features=256, out_features=131, bias=True)\n",
              "  )\n",
              ")"
            ]
          },
          "metadata": {},
          "execution_count": 13
        }
      ]
    },
    {
      "cell_type": "code",
      "source": [
        "rnet_50 = pre_train50.to(device)\n",
        "rnet_101 =pre_train101.to(device)"
      ],
      "metadata": {
        "execution": {
          "iopub.status.busy": "2024-05-03T07:01:21.571896Z",
          "iopub.execute_input": "2024-05-03T07:01:21.573058Z",
          "iopub.status.idle": "2024-05-03T07:01:21.588379Z",
          "shell.execute_reply.started": "2024-05-03T07:01:21.573001Z",
          "shell.execute_reply": "2024-05-03T07:01:21.587117Z"
        },
        "trusted": true,
        "id": "1I_6yp5hueyq"
      },
      "execution_count": 14,
      "outputs": []
    },
    {
      "cell_type": "markdown",
      "source": [
        "## Model Training"
      ],
      "metadata": {
        "id": "vD3_EcEuueyq"
      }
    },
    {
      "cell_type": "code",
      "source": [
        "def model_train(model):\n",
        "\n",
        "\n",
        "    running_loss_history = []\n",
        "    running_corrects_history = []\n",
        "    val_running_loss_history = []\n",
        "    val_running_corrects_history = []\n",
        "\n",
        "    num_epochs = 6\n",
        "    total_step = len(train_loader)\n",
        "    criterion = nn.CrossEntropyLoss()\n",
        "    optimizer = torch.optim.Adam(model.parameters(), lr=0.00001, betas=(0.9, 0.999))\n",
        "\n",
        "\n",
        "    for epoch in range(1, num_epochs+1):\n",
        "        running_loss = 0.0\n",
        "        running_corrects = 0.0\n",
        "        val_running_loss = 0.0\n",
        "        val_running_corrects = 0.0\n",
        "\n",
        "        ###################\n",
        "        # train the model #\n",
        "        ###################\n",
        "\n",
        "        model.train()\n",
        "        for images,labels in tqdm(train_loader):\n",
        "            images = images.to(device)\n",
        "            labels = labels.to(device)\n",
        "            optimizer.zero_grad()\n",
        "            output = model(images)\n",
        "            loss = criterion(output, labels)\n",
        "\n",
        "            loss.backward()\n",
        "            optimizer.step()\n",
        "            # update training loss\n",
        "            running_loss += loss.item()*images.size(0)\n",
        "            _, preds = torch.max(output, 1) # taking the highest value of prediction.\n",
        "            running_corrects += torch.sum(preds == labels.data).detach().cpu().numpy()\n",
        "        epoch_loss = running_loss/len(train_loader.dataset)\n",
        "        epoch_acc = running_corrects/ len(train_loader.dataset)\n",
        "        running_loss_history.append(epoch_loss)\n",
        "        running_corrects_history.append(epoch_acc)\n",
        "\n",
        "        ######################\n",
        "        # validate the model #\n",
        "        ######################\n",
        "        # eval mode (no dropout)\n",
        "        model.eval()\n",
        "        with torch.no_grad():\n",
        "            for val_images,val_labels in tqdm(valid_loader):\n",
        "                val_images = val_images.to(device)\n",
        "                val_labels = val_labels.to(device)\n",
        "\n",
        "                val_output = model(val_images)\n",
        "                # calculate the batch loss\n",
        "                loss = criterion(val_output, val_labels)\n",
        "                # update average validation loss\n",
        "\n",
        "                _, val_preds = torch.max(val_output, 1)\n",
        "                val_running_loss += loss.item()*val_images.size(0)\n",
        "                val_running_corrects += torch.sum(val_preds == val_labels.data).detach().cpu().numpy()\n",
        "\n",
        "        val_epoch_loss = val_running_loss/len(valid_loader.dataset)\n",
        "        val_epoch_acc = val_running_corrects/ len(valid_loader.dataset)\n",
        "        val_running_loss_history.append(val_epoch_loss)\n",
        "        val_running_corrects_history.append(val_epoch_acc)\n",
        "\n",
        "        print('epoch :', (epoch))\n",
        "        print('training loss: {:.4f}, acc {:.4f} '.format(epoch_loss,epoch_acc))\n",
        "        print('validation loss: {:.4f}, validation acc {:.4f} '.format(val_epoch_loss, val_epoch_acc))\n",
        "\n",
        "    return running_loss_history,val_running_loss_history,running_corrects_history,val_running_corrects_history"
      ],
      "metadata": {
        "execution": {
          "iopub.status.busy": "2024-04-14T10:35:13.953932Z",
          "iopub.execute_input": "2024-04-14T10:35:13.954216Z",
          "iopub.status.idle": "2024-04-14T10:35:13.969985Z",
          "shell.execute_reply.started": "2024-04-14T10:35:13.954191Z",
          "shell.execute_reply": "2024-04-14T10:35:13.968863Z"
        },
        "trusted": true,
        "id": "mT3DdOncueyq"
      },
      "execution_count": 15,
      "outputs": []
    },
    {
      "cell_type": "code",
      "source": [
        "running_loss_history,val_running_loss_history,running_corrects_history,val_running_corrects_history = model_train(rnet_50)"
      ],
      "metadata": {
        "execution": {
          "iopub.status.busy": "2024-04-14T10:35:13.990495Z",
          "iopub.execute_input": "2024-04-14T10:35:13.990858Z",
          "iopub.status.idle": "2024-04-14T11:29:43.33699Z",
          "shell.execute_reply.started": "2024-04-14T10:35:13.990833Z",
          "shell.execute_reply": "2024-04-14T11:29:43.335989Z"
        },
        "trusted": true,
        "id": "8KKCtMifueyq",
        "outputId": "df85ea9c-fa1b-4f73-96dd-18b9c5877b6d",
        "colab": {
          "base_uri": "https://localhost:8080/"
        }
      },
      "execution_count": 16,
      "outputs": [
        {
          "output_type": "stream",
          "name": "stderr",
          "text": [
            "100%|██████████| 794/794 [02:17<00:00,  5.75it/s]\n",
            "100%|██████████| 265/265 [00:32<00:00,  8.20it/s]\n"
          ]
        },
        {
          "output_type": "stream",
          "name": "stdout",
          "text": [
            "epoch : 1\n",
            "training loss: 3.2488, acc 0.3055 \n",
            "validation loss: 1.2882, validation acc 0.7471 \n"
          ]
        },
        {
          "output_type": "stream",
          "name": "stderr",
          "text": [
            "100%|██████████| 794/794 [02:16<00:00,  5.81it/s]\n",
            "100%|██████████| 265/265 [00:31<00:00,  8.34it/s]\n"
          ]
        },
        {
          "output_type": "stream",
          "name": "stdout",
          "text": [
            "epoch : 2\n",
            "training loss: 0.8605, acc 0.8126 \n",
            "validation loss: 0.2736, validation acc 0.9564 \n"
          ]
        },
        {
          "output_type": "stream",
          "name": "stderr",
          "text": [
            "100%|██████████| 794/794 [02:17<00:00,  5.78it/s]\n",
            "100%|██████████| 265/265 [00:32<00:00,  8.28it/s]\n"
          ]
        },
        {
          "output_type": "stream",
          "name": "stdout",
          "text": [
            "epoch : 3\n",
            "training loss: 0.3136, acc 0.9326 \n",
            "validation loss: 0.0972, validation acc 0.9846 \n"
          ]
        },
        {
          "output_type": "stream",
          "name": "stderr",
          "text": [
            "100%|██████████| 794/794 [02:18<00:00,  5.74it/s]\n",
            "100%|██████████| 265/265 [00:31<00:00,  8.37it/s]\n"
          ]
        },
        {
          "output_type": "stream",
          "name": "stdout",
          "text": [
            "epoch : 4\n",
            "training loss: 0.1581, acc 0.9663 \n",
            "validation loss: 0.0456, validation acc 0.9927 \n"
          ]
        },
        {
          "output_type": "stream",
          "name": "stderr",
          "text": [
            "100%|██████████| 794/794 [02:17<00:00,  5.76it/s]\n",
            "100%|██████████| 265/265 [00:32<00:00,  8.23it/s]\n"
          ]
        },
        {
          "output_type": "stream",
          "name": "stdout",
          "text": [
            "epoch : 5\n",
            "training loss: 0.0987, acc 0.9780 \n",
            "validation loss: 0.0333, validation acc 0.9933 \n"
          ]
        },
        {
          "output_type": "stream",
          "name": "stderr",
          "text": [
            "100%|██████████| 794/794 [02:18<00:00,  5.75it/s]\n",
            "100%|██████████| 265/265 [00:32<00:00,  8.20it/s]"
          ]
        },
        {
          "output_type": "stream",
          "name": "stdout",
          "text": [
            "epoch : 6\n",
            "training loss: 0.0731, acc 0.9827 \n",
            "validation loss: 0.0180, validation acc 0.9966 \n"
          ]
        },
        {
          "output_type": "stream",
          "name": "stderr",
          "text": [
            "\n"
          ]
        }
      ]
    },
    {
      "cell_type": "markdown",
      "source": [
        " * **Resnet50 Training and Validation Results**"
      ],
      "metadata": {
        "id": "pcF9FoBtueyq"
      }
    },
    {
      "cell_type": "code",
      "source": [
        "fig = plt.figure(facecolor=\"w\", figsize=(10, 5))\n",
        "plt.plot(running_loss_history)\n",
        "plt.plot(val_running_loss_history)\n",
        "plt.title(\"Resnet_50 Fruits Loss curves\")\n",
        "plt.legend([\"Train loss\", \"Valid loss\"])\n",
        "plt.xlabel(\"Iteration\")\n",
        "plt.ylabel(\"Accuaracy\")\n",
        "plt.show()"
      ],
      "metadata": {
        "id": "DaLdh1Qiueyq",
        "outputId": "efb45128-485e-4581-cb16-d4f30b7db942",
        "colab": {
          "base_uri": "https://localhost:8080/",
          "height": 487
        }
      },
      "execution_count": 17,
      "outputs": [
        {
          "output_type": "display_data",
          "data": {
            "text/plain": [
              "<Figure size 1000x500 with 1 Axes>"
            ],
            "image/png": "[encoded data removed]"
          },
          "metadata": {}
        }
      ]
    },
    {
      "cell_type": "code",
      "source": [
        "fig = plt.figure(facecolor=\"w\", figsize=(10, 5))\n",
        "plt.plot(running_corrects_history)\n",
        "plt.plot(val_running_corrects_history)\n",
        "plt.title(\"Resnet_50 Fruits detection Accuracy\")\n",
        "plt.legend([\"Train Acc\", \"Valid Acc\"])\n",
        "plt.xlabel(\"Iteration\")\n",
        "plt.ylabel(\"Accuaracy\")\n",
        "plt.show()"
      ],
      "metadata": {
        "id": "XjVTlZJ0ueyq",
        "outputId": "dba256d4-f2bc-40e5-f674-73dcd356d8cd",
        "colab": {
          "base_uri": "https://localhost:8080/",
          "height": 487
        }
      },
      "execution_count": 18,
      "outputs": [
        {
          "output_type": "display_data",
          "data": {
            "text/plain": [
              "<Figure size 1000x500 with 1 Axes>"
            ],
            "image/png": "[encoded data removed]"
          },
          "metadata": {}
        }
      ]
    },
    {
      "cell_type": "code",
      "source": [
        "running_loss_history,val_running_loss_history,running_corrects_history,val_running_corrects_history = model_train(rnet_101)"
      ],
      "metadata": {
        "execution": {
          "iopub.status.busy": "2024-04-14T11:29:43.338448Z",
          "iopub.execute_input": "2024-04-14T11:29:43.338838Z",
          "iopub.status.idle": "2024-04-14T12:30:39.613548Z",
          "shell.execute_reply.started": "2024-04-14T11:29:43.338805Z",
          "shell.execute_reply": "2024-04-14T12:30:39.612538Z"
        },
        "trusted": true,
        "id": "M2N9XtZeueyq",
        "outputId": "943f6ba5-82f4-4cb3-e725-20c87ceaee49",
        "colab": {
          "base_uri": "https://localhost:8080/"
        }
      },
      "execution_count": 19,
      "outputs": [
        {
          "output_type": "stream",
          "name": "stderr",
          "text": [
            "100%|██████████| 794/794 [03:10<00:00,  4.16it/s]\n",
            "100%|██████████| 265/265 [00:33<00:00,  7.88it/s]\n"
          ]
        },
        {
          "output_type": "stream",
          "name": "stdout",
          "text": [
            "epoch : 1\n",
            "training loss: 3.5110, acc 0.2269 \n",
            "validation loss: 1.6338, validation acc 0.6213 \n"
          ]
        },
        {
          "output_type": "stream",
          "name": "stderr",
          "text": [
            "100%|██████████| 794/794 [03:10<00:00,  4.16it/s]\n",
            "100%|██████████| 265/265 [00:34<00:00,  7.67it/s]\n"
          ]
        },
        {
          "output_type": "stream",
          "name": "stdout",
          "text": [
            "epoch : 2\n",
            "training loss: 0.9982, acc 0.7725 \n",
            "validation loss: 0.3358, validation acc 0.9274 \n"
          ]
        },
        {
          "output_type": "stream",
          "name": "stderr",
          "text": [
            "100%|██████████| 794/794 [03:11<00:00,  4.15it/s]\n",
            "100%|██████████| 265/265 [00:33<00:00,  7.80it/s]\n"
          ]
        },
        {
          "output_type": "stream",
          "name": "stdout",
          "text": [
            "epoch : 3\n",
            "training loss: 0.3411, acc 0.9179 \n",
            "validation loss: 0.0965, validation acc 0.9827 \n"
          ]
        },
        {
          "output_type": "stream",
          "name": "stderr",
          "text": [
            "100%|██████████| 794/794 [03:11<00:00,  4.15it/s]\n",
            "100%|██████████| 265/265 [00:33<00:00,  7.99it/s]\n"
          ]
        },
        {
          "output_type": "stream",
          "name": "stdout",
          "text": [
            "epoch : 4\n",
            "training loss: 0.1779, acc 0.9565 \n",
            "validation loss: 0.0575, validation acc 0.9874 \n"
          ]
        },
        {
          "output_type": "stream",
          "name": "stderr",
          "text": [
            "100%|██████████| 794/794 [03:11<00:00,  4.15it/s]\n",
            "100%|██████████| 265/265 [00:33<00:00,  7.97it/s]\n"
          ]
        },
        {
          "output_type": "stream",
          "name": "stdout",
          "text": [
            "epoch : 5\n",
            "training loss: 0.1133, acc 0.9719 \n",
            "validation loss: 0.0397, validation acc 0.9897 \n"
          ]
        },
        {
          "output_type": "stream",
          "name": "stderr",
          "text": [
            "100%|██████████| 794/794 [03:12<00:00,  4.13it/s]\n",
            "100%|██████████| 265/265 [00:33<00:00,  7.89it/s]"
          ]
        },
        {
          "output_type": "stream",
          "name": "stdout",
          "text": [
            "epoch : 6\n",
            "training loss: 0.0917, acc 0.9760 \n",
            "validation loss: 0.0169, validation acc 0.9957 \n"
          ]
        },
        {
          "output_type": "stream",
          "name": "stderr",
          "text": [
            "\n"
          ]
        }
      ]
    },
    {
      "cell_type": "markdown",
      "source": [
        "* **Resnet101 Training and Validation Results**"
      ],
      "metadata": {
        "id": "-uFFCumzueyr"
      }
    },
    {
      "cell_type": "code",
      "source": [
        "fig = plt.figure(facecolor=\"w\", figsize=(10, 5))\n",
        "plt.plot(running_loss_history)\n",
        "plt.plot(val_running_loss_history)\n",
        "plt.title(\"Fruits Loss curves\")\n",
        "plt.legend([\"Train loss\", \"Valid loss\"])\n",
        "plt.xlabel(\"Iteration\")\n",
        "plt.ylabel(\"Accuaracy\")\n",
        "plt.show()"
      ],
      "metadata": {
        "id": "57qIqpq3ueyr",
        "outputId": "e82cc162-fa8a-4c75-9a05-d77eef2b525f",
        "colab": {
          "base_uri": "https://localhost:8080/",
          "height": 487
        }
      },
      "execution_count": 20,
      "outputs": [
        {
          "output_type": "display_data",
          "data": {
            "text/plain": [
              "<Figure size 1000x500 with 1 Axes>"
            ],
            "image/png": "[encoded data removed]"
          },
          "metadata": {}
        }
      ]
    },
    {
      "cell_type": "code",
      "source": [
        "fig = plt.figure(facecolor=\"w\", figsize=(10, 5))\n",
        "plt.plot(running_corrects_history)\n",
        "plt.plot(val_running_corrects_history)\n",
        "plt.title(\"Fruits detection Accuracy\")\n",
        "plt.legend([\"Train Acc\", \"Valid Acc\"])\n",
        "plt.xlabel(\"Iteration\")\n",
        "plt.ylabel(\"Accuaracy\")\n",
        "plt.show()"
      ],
      "metadata": {
        "id": "tpI88yilueyr",
        "outputId": "64fe7dc1-15ce-4e82-9e5c-cdbf8c1132f9",
        "colab": {
          "base_uri": "https://localhost:8080/",
          "height": 487
        }
      },
      "execution_count": 21,
      "outputs": [
        {
          "output_type": "display_data",
          "data": {
            "text/plain": [
              "<Figure size 1000x500 with 1 Axes>"
            ],
            "image/png": "[encoded data removed]"
          },
          "metadata": {}
        }
      ]
    },
    {
      "cell_type": "markdown",
      "source": [
        "## Model Testing"
      ],
      "metadata": {
        "id": "1Jlwqvdtueyr"
      }
    },
    {
      "cell_type": "code",
      "source": [
        "def model_test(model):\n",
        "\n",
        "    test_loss = 0.0\n",
        "    class_correct = list(0. for i in range(classes))\n",
        "    class_total = list(0. for i in range(classes))\n",
        "    criterion = nn.CrossEntropyLoss()\n",
        "\n",
        "    model.eval()\n",
        "\n",
        "    for image, target in tqdm(test_loader):\n",
        "\n",
        "        image = image.to(device)\n",
        "        target = target.to(device)\n",
        "        with torch.no_grad():\n",
        "            output = model(image)\n",
        "            loss = criterion(output, target)\n",
        "        test_loss += loss.item()*image.size(0)\n",
        "        _, pred = torch.max(output, 1)\n",
        "        correct_tensor = pred.eq(target.data.view_as(pred))\n",
        "        correct = np.squeeze(correct_tensor.numpy()) if not torch.cuda.is_available() else np.squeeze(correct_tensor.cpu().numpy())\n",
        "        if len(target) == 64:\n",
        "            for i in range(64):\n",
        "                label = target.data[i]\n",
        "                class_correct[label] += correct[i].item()\n",
        "                class_total[label] += 1\n",
        "\n",
        "    test_loss = test_loss/len(test_loader.dataset)\n",
        "    print('Test Loss: {:.6f}\\n'.format(test_loss))\n",
        "\n",
        "#   for i in range(classes):\n",
        "#       if class_total[i] > 0:\n",
        "#           print('Test Accuracy of %5s: %2d%% (%2d/%2d)' % (\n",
        "#               classes[i], 100 * class_correct[i] / class_total[i],\n",
        "#               np.sum(class_correct[i]), np.sum(class_total[i])))\n",
        "#       else:\n",
        "#           print('Test Accuracy of %5s: N/A (no training examples)' % (classes[i]))\n",
        "\n",
        "    print('\\nTest Accuracy (Overall): {:.4f} ({}/{})'.format(\n",
        "    100. * np.sum(class_correct) / np.sum(class_total),\n",
        "    np.sum(class_correct), np.sum(class_total)))"
      ],
      "metadata": {
        "execution": {
          "iopub.status.busy": "2024-04-14T12:30:39.61498Z",
          "iopub.execute_input": "2024-04-14T12:30:39.615254Z",
          "iopub.status.idle": "2024-04-14T12:30:39.624927Z",
          "shell.execute_reply.started": "2024-04-14T12:30:39.615232Z",
          "shell.execute_reply": "2024-04-14T12:30:39.624078Z"
        },
        "trusted": true,
        "id": "dbHEIfROueyr"
      },
      "execution_count": 22,
      "outputs": []
    },
    {
      "cell_type": "markdown",
      "source": [
        "* **Resnet50 Testing Results**"
      ],
      "metadata": {
        "id": "4txiKOLRueyr"
      }
    },
    {
      "cell_type": "code",
      "source": [
        "model_test(rnet_50)"
      ],
      "metadata": {
        "execution": {
          "iopub.status.busy": "2024-04-14T12:30:39.625946Z",
          "iopub.execute_input": "2024-04-14T12:30:39.626201Z",
          "iopub.status.idle": "2024-04-14T12:36:24.496201Z",
          "shell.execute_reply.started": "2024-04-14T12:30:39.626179Z",
          "shell.execute_reply": "2024-04-14T12:36:24.495212Z"
        },
        "trusted": true,
        "id": "gA8gCjSEueyr",
        "outputId": "78284c1b-1acf-4e52-9d25-327ea005fae0",
        "colab": {
          "base_uri": "https://localhost:8080/"
        }
      },
      "execution_count": 23,
      "outputs": [
        {
          "output_type": "stream",
          "name": "stderr",
          "text": [
            "100%|██████████| 355/355 [00:33<00:00, 10.50it/s]"
          ]
        },
        {
          "output_type": "stream",
          "name": "stdout",
          "text": [
            "Test Loss: 0.155868\n",
            "\n",
            "\n",
            "Test Accuracy (Overall): 95.3875 (21611.0/22656.0)\n"
          ]
        },
        {
          "output_type": "stream",
          "name": "stderr",
          "text": [
            "\n"
          ]
        }
      ]
    },
    {
      "cell_type": "markdown",
      "source": [
        "* **Resnet101 Testing Results**"
      ],
      "metadata": {
        "id": "vH45UhhVueyr"
      }
    },
    {
      "cell_type": "code",
      "source": [
        "model_test(rnet_101)"
      ],
      "metadata": {
        "id": "mlLRa7Viueyr",
        "outputId": "1cab75ab-0120-41d5-c72f-0c2bfc11fe8f",
        "colab": {
          "base_uri": "https://localhost:8080/"
        }
      },
      "execution_count": 24,
      "outputs": [
        {
          "output_type": "stream",
          "name": "stderr",
          "text": [
            "100%|██████████| 355/355 [00:37<00:00,  9.38it/s]"
          ]
        },
        {
          "output_type": "stream",
          "name": "stdout",
          "text": [
            "Test Loss: 0.123641\n",
            "\n",
            "\n",
            "Test Accuracy (Overall): 96.3630 (21832.0/22656.0)\n"
          ]
        },
        {
          "output_type": "stream",
          "name": "stderr",
          "text": [
            "\n"
          ]
        }
      ]
    }
  ]
}